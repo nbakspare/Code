{
 "cells": [
  {
   "cell_type": "code",
   "execution_count": 1,
   "metadata": {},
   "outputs": [],
   "source": [
    "import icepython as ice"
   ]
  },
  {
   "cell_type": "code",
   "execution_count": 4,
   "metadata": {},
   "outputs": [
    {
     "name": "stdout",
     "output_type": "stream",
     "text": [
      "()\n"
     ]
    }
   ],
   "source": [
    "print(ice.get_subscriptions())"
   ]
  },
  {
   "cell_type": "code",
   "execution_count": 2,
   "metadata": {},
   "outputs": [
    {
     "ename": "AttributeError",
     "evalue": "module 'icepython' has no attribute 'Session'",
     "output_type": "error",
     "traceback": [
      "\u001b[1;31m---------------------------------------------------------------------------\u001b[0m",
      "\u001b[1;31mAttributeError\u001b[0m                            Traceback (most recent call last)",
      "Cell \u001b[1;32mIn[2], line 6\u001b[0m\n\u001b[0;32m      3\u001b[0m password \u001b[38;5;241m=\u001b[39m \u001b[38;5;124m'\u001b[39m\u001b[38;5;124mCoexRates13!\u001b[39m\u001b[38;5;124m'\u001b[39m\n\u001b[0;32m      5\u001b[0m \u001b[38;5;66;03m# Initialize the ICE session\u001b[39;00m\n\u001b[1;32m----> 6\u001b[0m session \u001b[38;5;241m=\u001b[39m \u001b[43mice\u001b[49m\u001b[38;5;241;43m.\u001b[39;49m\u001b[43mSession\u001b[49m(username, password)\n\u001b[0;32m      8\u001b[0m \u001b[38;5;28;01mtry\u001b[39;00m:\n\u001b[0;32m      9\u001b[0m     \u001b[38;5;66;03m# Fetch the market rate for EUR OIS 5y5y\u001b[39;00m\n\u001b[0;32m     10\u001b[0m     \u001b[38;5;66;03m# Assuming the `get_market_rate` method exists and can be used to fetch OIS rates\u001b[39;00m\n\u001b[0;32m     11\u001b[0m     \u001b[38;5;66;03m# The specific method name and parameters may vary based on the `icepython` API\u001b[39;00m\n\u001b[0;32m     12\u001b[0m     instrument \u001b[38;5;241m=\u001b[39m \u001b[38;5;124m'\u001b[39m\u001b[38;5;124mEUR_OIS_5Y5Y\u001b[39m\u001b[38;5;124m'\u001b[39m  \u001b[38;5;66;03m# You might need to check the exact identifier\u001b[39;00m\n",
      "\u001b[1;31mAttributeError\u001b[0m: module 'icepython' has no attribute 'Session'"
     ]
    }
   ],
   "source": [
    "\n",
    "\n",
    "# Replace these with your actual credentials\n",
    "username = 'johnall'\n",
    "password = 'CoexRates13!'\n",
    "\n",
    "# Initialize the ICE session\n",
    "session = ice.Session(username, password)\n",
    "\n",
    "try:\n",
    "    # Fetch the market rate for EUR OIS 5y5y\n",
    "    # Assuming the `get_market_rate` method exists and can be used to fetch OIS rates\n",
    "    # The specific method name and parameters may vary based on the `icepython` API\n",
    "    instrument = 'EUR_OIS_5Y5Y'  # You might need to check the exact identifier\n",
    "    market_rate = session.get_market_rate(instrument)\n",
    "    \n",
    "    # Print the market rate\n",
    "    print(\"Market Rate for EUR OIS 5y5y:\")\n",
    "    print(market_rate)\n",
    "    \n",
    "except ice.exceptions.AuthenticationError:\n",
    "    print(\"Authentication failed. Please check your credentials.\")\n",
    "except ice.exceptions.DataRetrievalError:\n",
    "    print(\"Failed to retrieve data. Please check the instrument identifier and try again.\")\n",
    "except Exception as e:\n",
    "    print(f\"An unexpected error occurred: {e}\")\n",
    "finally:\n",
    "    session.close()\n"
   ]
  }
 ],
 "metadata": {
  "kernelspec": {
   "display_name": "Python 3",
   "language": "python",
   "name": "python3"
  },
  "language_info": {
   "codemirror_mode": {
    "name": "ipython",
    "version": 3
   },
   "file_extension": ".py",
   "mimetype": "text/x-python",
   "name": "python",
   "nbconvert_exporter": "python",
   "pygments_lexer": "ipython3",
   "version": "3.10.9"
  }
 },
 "nbformat": 4,
 "nbformat_minor": 2
}
