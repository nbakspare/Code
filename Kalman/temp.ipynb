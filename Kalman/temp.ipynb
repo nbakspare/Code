{
 "cells": [
  {
   "cell_type": "code",
   "execution_count": null,
   "metadata": {},
   "outputs": [],
   "source": [
    "cols = ['1Y','1Y1Y','2Y1Y','3Y1Y', '4Y1Y','5Y1Y','6Y1Y','7Y1Y', '8Y1Y', '9Y1Y', '10Y2Y', '12Y3Y', '15Y5Y', '20Y5Y', '25Y5Y', '30Y10Y']\n",
    "remove = ['4Y1Y','5Y1Y','6Y1Y','7Y1Y', '8Y1Y', '9Y1Y', '25Y5Y', '30Y10Y']\n",
    "add = ['3y2y','5y2y','5y5y','7y3y','10Y10Y','20Y10Y']\n",
    "cols= ['1Y','1Y1Y','2Y1Y','3Y1Y','3Y2Y','5Y2Y','5Y5Y','7Y3Y','10Y2Y','10Y10Y','12Y3Y','15Y5Y','20Y10Y','20Y5Y']\n",
    "curves = pd.DataFrame({0:['EESWE1 Curncy', 'S0514FS 1Y1Y BLC Curncy','S0514FS 2Y1Y BLC Curncy', 'S0514FS 3Y1Y BLC Curncy','S0514FS 4Y1Y BLC Curncy', 'S0514FS 5Y1Y BLC Curncy','S0514FS 6Y1Y BLC Curncy', 'S0514FS 7Y1Y BLC Curncy','S0514FS 8Y1Y BLC Curncy', 'S0514FS 9Y1Y BLC Curncy','S0514FS 10Y2Y BLC Curncy', 'S0514FS 12Y3Y BLC Curncy','S0514FS 15Y5Y BLC Curncy', 'S0514FS 20Y5Y BLC Curncy','S0514FS 25Y5Y BLC Curncy', 'S0514FS 30Y10Y BLC Curncy'], \n",
    "          1:['USOSFR1 Curncy', 'S0490FS 1Y1Y BLC Curncy','S0490FS 2Y1Y BLC Curncy', 'S0490FS 3Y1Y BLC Curncy','S0490FS 4Y1Y BLC Curncy', 'S0490FS 5Y1Y BLC Curncy','S0490FS 6Y1Y BLC Curncy', 'S0490FS 7Y1Y BLC Curncy','S0490FS 8Y1Y BLC Curncy', 'S0490FS 9Y1Y BLC Curncy','S0490FS 10Y2Y BLC Curncy', 'S0490FS 12Y3Y BLC Curncy','S0490FS 15Y5Y BLC Curncy', 'S0490FS 20Y5Y BLC Curncy','S0490FS 25Y5Y BLC Curncy', 'S0490FS 30Y10Y BLC Curncy'],\n",
    "         2:['BPSWS1 Curncy', 'S0141FS 1Y1Y BLC Curncy','S0141FS 2Y1Y BLC Curncy', 'S0141FS 3Y1Y BLC Curncy','S0141FS 4Y1Y BLC Curncy', 'S0141FS 5Y1Y BLC Curncy','S0141FS 6Y1Y BLC Curncy', 'S0141FS 7Y1Y BLC Curncy','S0141FS 8Y1Y BLC Curncy', 'S0141FS 9Y1Y BLC Curncy','S0141FS 10Y2Y BLC Curncy', 'S0141FS 12Y3Y BLC Curncy','S0141FS 15Y5Y BLC Curncy', 'S0141FS 20Y5Y BLC Curncy','S0141FS 25Y5Y BLC Curncy', 'S0141FS 30Y10Y BLC Curncy'],\n",
    "          3:['SFSNT1 Curncy', 'S0234FS 1Y1Y BLC Curncy','S0234FS 2Y1Y BLC Curncy', 'S0234FS 3Y1Y BLC Curncy','S0234FS 4Y1Y BLC Curncy', 'S0234FS 5Y1Y BLC Curncy','S0234FS 6Y1Y BLC Curncy', 'S0234FS 7Y1Y BLC Curncy','S0234FS 8Y1Y BLC Curncy', 'S0234FS 9Y1Y BLC Curncy','S0234FS 10Y2Y BLC Curncy', 'S0234FS 12Y3Y BLC Curncy','S0234FS 15Y5Y BLC Curncy', 'S0234FS 20Y5Y BLC Curncy','S0234FS 25Y5Y BLC Curncy', float(\"nan\")],\n",
    "        4:['SASW1 Curncy', 'SAFS0101 Curncy', 'SAFS0201 Curncy','SAFS0301 Curncy', 'SAFS0401 Curncy', 'SAFS0501 Curncy','SAFS0601 Curncy', 'SAFS0701 Curncy', 'SAFS0801 Curncy','SAFS0901 Curncy', 'SAFS1002 Curncy', 'SAFS1203 Curncy','SAFS1505 Curncy', 'SAFS2005 Curncy', 'SAFS2505 Curncy', float(\"nan\")],\n",
    "         5:['EUSA1 Curncy', 'EUSA0101 Curncy', 'EUSA0201 Curncy','EUSA0301 Curncy', 'EUSA0401 Curncy', 'EUSA0501 Curncy','EUSA0601 Curncy', 'EUSA0701 Curncy', 'EUSA0801 Curncy','EUSA0901 Curncy', 'EUSA1002 Curncy', 'EUSA1203 Curncy','EUSA1505 Curncy', 'EUSA2005 Curncy', 'EUSA2505 Curncy', 'EUSA3010 Curncy'],\n",
    "         6: ['SKSW1 Curncy', 'SD0020FS 1Y1Y BLC Curncy','SD0020FS 2Y1Y BLC Curncy', 'SD0020FS 3Y1Y BLC Curncy','SD0020FS 4Y1Y BLC Curncy', 'SD0020FS 5Y1Y BLC Curncy','SD0020FS 6Y1Y BLC Curncy', 'SD0020FS 7Y1Y BLC Curncy','SD0020FS 8Y1Y BLC Curncy', 'SD0020FS 9Y1Y BLC Curncy','SD0020FS 10Y2Y BLC Curncy', 'SD0020FS 12Y3Y BLC Curncy','SD0020FS 15Y5Y BLC Curncy', 'SD0020FS 20Y5Y BLC Curncy','SD0020FS 25Y5Y BLC Curncy', float(\"nan\")],\n",
    "         7: ['NKSW1 Curncy', 'SD0313FS 1Y1Y BLC Curncy','SD0313FS 2Y1Y BLC Curncy', 'SD0313FS 3Y1Y BLC Curncy','SD0313FS 4Y1Y BLC Curncy', 'SD0313FS 5Y1Y BLC Curncy','SD0313FS 6Y1Y BLC Curncy', 'SD0313FS 7Y1Y BLC Curncy','SD0313FS 8Y1Y BLC Curncy', 'SD0313FS 9Y1Y BLC Curncy','SD0313FS 10Y2Y BLC Curncy', 'SD0313FS 12Y3Y BLC Curncy','SD0313FS 15Y5Y BLC Curncy', 'SD0313FS 20Y5Y BLC Curncy','SD0313FS 25Y5Y BLC Curncy', float('nan')],\n",
    "         8: ['ISSW1 Curncy', 'ISFS0101 Curncy', 'ISFS0201 Curncy','ISFS0301 Curncy', 'ISFS0401 Curncy', 'ISFS0501 Curncy','ISFS0601 Curncy', 'ISFS0701 Curncy', 'ISFS0801 Curncy','ISFS0901 Curncy', 'ISFS1002 Curncy', 'ISFS1203 Curncy','ISFS1505 Curncy', 'ISFS2005 Curncy', 'ISFS2505 Curncy', float('nan')],\n",
    "         9: ['CKSW1 Curncy', 'S0320FS 1Y1Y BLC Curncy','S0320FS 2Y1Y BLC Curncy', 'S0320FS 3Y1Y BLC Curncy','S0320FS 4Y1Y BLC Curncy', 'S0320FS 5Y1Y BLC Curncy','S0320FS 6Y1Y BLC Curncy', 'S0320FS 7Y1Y BLC Curncy','S0320FS 8Y1Y BLC Curncy', 'S0320FS 9Y1Y BLC Curncy','S0320FS 10Y2Y BLC Curncy', 'S0320FS 12Y3Y BLC Curncy', float('nan'), float('nan'),float('nan'), float('nan')],\n",
    "         10: ['PZSW1 Curncy', 'S0323FS 1Y1Y BLC Curncy','S0323FS 2Y1Y BLC Curncy', 'S0323FS 3Y1Y BLC Curncy','S0323FS 4Y1Y BLC Curncy', 'S0323FS 5Y1Y BLC Curncy','S0323FS 6Y1Y BLC Curncy', 'S0323FS 7Y1Y BLC Curncy','S0323FS 8Y1Y BLC Curncy', 'S0323FS 9Y1Y BLC Curncy','S0323FS 10Y2Y BLC Curncy', float('nan'), float('nan'), float('nan'),float('nan'), float('nan')] \n",
    "            }).T"
   ]
  },
  {
   "cell_type": "code",
   "execution_count": 2,
   "metadata": {},
   "outputs": [],
   "source": [
    "import pandas as pd"
   ]
  },
  {
   "cell_type": "code",
   "execution_count": 3,
   "metadata": {},
   "outputs": [],
   "source": [
    "curves = pd.DataFrame({0:['EESWE1 Curncy', 'S0514FS 1Y1Y BLC Curncy','S0514FS 2Y1Y BLC Curncy', 'S0514FS 3Y1Y BLC Curncy','S0514FS 3Y2Y BLC Curncy','S0514FS 5Y2Y BLC Curncy','S0514FS 5Y5Y BLC Curncy','S0514FS 7Y3Y BLC Curncy','S0514FS 10Y2Y BLC Curncy','S0514FS 10Y10Y BLC Curncy','S0514FS 12Y3Y BLC Curncy','S0514FS 15Y5Y BLC Curncy','S0514FS 20Y5Y BLC Curncy','S0514FS 20Y10Y BLC Curncy'], \n",
    "          1:['USOSFR1 Curncy', 'S0490FS 1Y1Y BLC Curncy','S0490FS 2Y1Y BLC Curncy', 'S0490FS 3Y1Y BLC Curncy','S0490FS 3Y2Y BLC Curncy','S0490FS 5Y2Y BLC Curncy','S0490FS 5Y5Y BLC Curncy','S0490FS 7Y3Y BLC Curncy','S0490FS 10Y2Y BLC Curncy', 'S0490FS 10Y10Y BLC Curncy','S0490FS 12Y3Y BLC Curncy','S0490FS 15Y5Y BLC Curncy', 'S0490FS 20Y5Y BLC Curncy','S0490FS 20Y10Y BLC Curncy'],\n",
    "         2:['BPSWS1 Curncy', 'S0141FS 1Y1Y BLC Curncy','S0141FS 2Y1Y BLC Curncy', 'S0141FS 3Y1Y BLC Curncy', 'S0141FS 3Y2Y BLC Curncy','S0141FS 5Y2Y BLC Curncy','S0141FS 5Y5Y BLC Curncy','S0141FS 7Y3Y BLC Curncy','S0141FS 10Y2Y BLC Curncy','S0141FS 10Y10Y BLC Curncy','S0141FS 12Y3Y BLC Curncy','S0141FS 15Y5Y BLC Curncy', 'S0141FS 20Y5Y BLC Curncy','S0141FS 20Y10Y BLC Curncy'],\n",
    "          3:['SFSNT1 Curncy', 'S0234FS 1Y1Y BLC Curncy','S0234FS 2Y1Y BLC Curncy', 'S0234FS 3Y1Y BLC Curncy','S0234FS 3Y2Y BLC Curncy','S0234FS 5Y2Y BLC Curncy','S0234FS 5Y5Y BLC Curncy','S0234FS 7Y3Y BLC Curncy','S0234FS 10Y2Y BLC Curncy','S0234FS 10Y10Y BLC Curncy','S0234FS 12Y3Y BLC Curncy','S0234FS 15Y5Y BLC Curncy', 'S0234FS 20Y5Y BLC Curncy','S0234FS 20Y10Y BLC Curncy'],\n",
    "        4:['SASW1 Curncy', 'SAFS0101 Curncy', 'SAFS0201 Curncy','SAFS0301 Curncy','SAFS0302 Curncy','SAFS0502 Curncy','SAFS0505 Curncy','SAFS0703 Curncy','SAFS1002 Curncy','SAFS1010 Curncy','SAFS1203 Curncy','SAFS1505 Curncy','SAFS2005 Curncy','SAFS2010 Curncy'],\n",
    "         5:['EUSA1 Curncy', 'EUSA0101 Curncy', 'EUSA0201 Curncy','EUSA0301 Curncy','EUSA0302 Curncy','EUSA0502 Curncy','EUSA0505 Curncy','EUSA0703 Curncy','EUSA1002 Curncy','EUSA1010 Curncy', 'EUSA1203 Curncy','EUSA1505 Curncy','EUSA2005 Curncy','EUSA2010 Curncy',],\n",
    "         6: ['SKSW1 Curncy', 'SD0020FS 1Y1Y BLC Curncy','SD0020FS 2Y1Y BLC Curncy', 'SD0020FS 3Y1Y BLC Curncy','SD0020FS 3Y2Y BLC Curncy','SD0020FS 5Y2Y BLC Curncy','SD0020FS 5Y5Y BLC Curncy','SD0020FS 7Y3Y BLC Curncy','SD0020FS 10Y2Y BLC Curncy','SD0020FS 10Y10Y BLC Curncy', 'SD0020FS 12Y3Y BLC Curncy','SD0020FS 15Y5Y BLC Curncy', 'SD0020FS 20Y5Y BLC Curncy','SD0020FS 20Y10Y BLC Curncy'],\n",
    "         #7: ['NKSW1 Curncy', 'SD0313FS 1Y1Y BLC Curncy','SD0313FS 2Y1Y BLC Curncy', 'SD0313FS 3Y1Y BLC Curncy','SD0313FS 10Y2Y BLC Curncy', 'SD0313FS 12Y3Y BLC Curncy','SD0313FS 15Y5Y BLC Curncy', 'SD0313FS 20Y5Y BLC Curncy'],\n",
    "         #8: ['ISSW1 Curncy', 'ISFS0101 Curncy', 'ISFS0201 Curncy','ISFS0301 Curncy','ISFS1002 Curncy', 'ISFS1203 Curncy','ISFS1505 Curncy', 'ISFS2005 Curncy'],\n",
    "         #9: ['CKSW1 Curncy', 'S0320FS 1Y1Y BLC Curncy','S0320FS 2Y1Y BLC Curncy', 'S0320FS 3Y1Y BLC Curncy','S0320FS 10Y2Y BLC Curncy', 'S0320FS 12Y3Y BLC Curncy', float('nan'), float('nan')],\n",
    "         #10: ['PZSW1 Curncy', 'S0323FS 1Y1Y BLC Curncy','S0323FS 2Y1Y BLC Curncy', 'S0323FS 3Y1Y BLC Curncy','S0323FS 10Y2Y BLC Curncy', float('nan'), float('nan'), float('nan')] \n",
    "            }).T"
   ]
  },
  {
   "cell_type": "code",
   "execution_count": 5,
   "metadata": {},
   "outputs": [
    {
     "name": "stdout",
     "output_type": "stream",
     "text": [
      "0    14\n",
      "1    14\n",
      "2    14\n",
      "3    14\n",
      "4    14\n",
      "5    14\n",
      "6    14\n",
      "dtype: int64\n"
     ]
    }
   ],
   "source": [
    "row_lengths = curves.apply(lambda x: x.count(), axis=1)\n",
    "\n",
    "# Print the lengths of each row\n",
    "print(row_lengths)"
   ]
  },
  {
   "cell_type": "code",
   "execution_count": 6,
   "metadata": {},
   "outputs": [],
   "source": [
    "idx = ['estr','sofr','sonia', 'saron','jibar','euribor','stibor','nibor','telbor','pribor','wibor']\n",
    "cols = ['1Y','1Y1Y','2Y1Y','3Y1Y', '4Y1Y','5Y1Y','6Y1Y','7Y1Y', '8Y1Y', '9Y1Y', '10Y2Y', '12Y3Y', '15Y5Y', '20Y5Y', '25Y5Y', '30Y10Y']\n",
    "curves = pd.DataFrame({0:['EESWE1 Curncy', 'S0514FS 1Y1Y BLC Curncy','S0514FS 2Y1Y BLC Curncy', 'S0514FS 3Y1Y BLC Curncy','S0514FS 4Y1Y BLC Curncy', 'S0514FS 5Y1Y BLC Curncy','S0514FS 6Y1Y BLC Curncy', 'S0514FS 7Y1Y BLC Curncy','S0514FS 8Y1Y BLC Curncy', 'S0514FS 9Y1Y BLC Curncy','S0514FS 10Y2Y BLC Curncy', 'S0514FS 12Y3Y BLC Curncy','S0514FS 15Y5Y BLC Curncy', 'S0514FS 20Y5Y BLC Curncy','S0514FS 25Y5Y BLC Curncy', 'S0514FS 30Y10Y BLC Curncy'], \n",
    "          1:['USOSFR1 Curncy', 'S0490FS 1Y1Y BLC Curncy','S0490FS 2Y1Y BLC Curncy', 'S0490FS 3Y1Y BLC Curncy','S0490FS 4Y1Y BLC Curncy', 'S0490FS 5Y1Y BLC Curncy','S0490FS 6Y1Y BLC Curncy', 'S0490FS 7Y1Y BLC Curncy','S0490FS 8Y1Y BLC Curncy', 'S0490FS 9Y1Y BLC Curncy','S0490FS 10Y2Y BLC Curncy', 'S0490FS 12Y3Y BLC Curncy','S0490FS 15Y5Y BLC Curncy', 'S0490FS 20Y5Y BLC Curncy','S0490FS 25Y5Y BLC Curncy', 'S0490FS 30Y10Y BLC Curncy'],\n",
    "         2:['BPSWS1 Curncy', 'S0141FS 1Y1Y BLC Curncy','S0141FS 2Y1Y BLC Curncy', 'S0141FS 3Y1Y BLC Curncy','S0141FS 4Y1Y BLC Curncy', 'S0141FS 5Y1Y BLC Curncy','S0141FS 6Y1Y BLC Curncy', 'S0141FS 7Y1Y BLC Curncy','S0141FS 8Y1Y BLC Curncy', 'S0141FS 9Y1Y BLC Curncy','S0141FS 10Y2Y BLC Curncy', 'S0141FS 12Y3Y BLC Curncy','S0141FS 15Y5Y BLC Curncy', 'S0141FS 20Y5Y BLC Curncy','S0141FS 25Y5Y BLC Curncy', 'S0141FS 30Y10Y BLC Curncy'],\n",
    "          3:['SFSNT1 Curncy', 'S0234FS 1Y1Y BLC Curncy','S0234FS 2Y1Y BLC Curncy', 'S0234FS 3Y1Y BLC Curncy','S0234FS 4Y1Y BLC Curncy', 'S0234FS 5Y1Y BLC Curncy','S0234FS 6Y1Y BLC Curncy', 'S0234FS 7Y1Y BLC Curncy','S0234FS 8Y1Y BLC Curncy', 'S0234FS 9Y1Y BLC Curncy','S0234FS 10Y2Y BLC Curncy', 'S0234FS 12Y3Y BLC Curncy','S0234FS 15Y5Y BLC Curncy', 'S0234FS 20Y5Y BLC Curncy','S0234FS 25Y5Y BLC Curncy', float(\"nan\")],\n",
    "        4:['SASW1 Curncy', 'SAFS0101 Curncy', 'SAFS0201 Curncy','SAFS0301 Curncy', 'SAFS0401 Curncy', 'SAFS0501 Curncy','SAFS0601 Curncy', 'SAFS0701 Curncy', 'SAFS0801 Curncy','SAFS0901 Curncy', 'SAFS1002 Curncy', 'SAFS1203 Curncy','SAFS1505 Curncy', 'SAFS2005 Curncy', 'SAFS2505 Curncy', float(\"nan\")],\n",
    "         5:['EUSA1 Curncy', 'EUSA0101 Curncy', 'EUSA0201 Curncy','EUSA0301 Curncy', 'EUSA0401 Curncy', 'EUSA0501 Curncy','EUSA0601 Curncy', 'EUSA0701 Curncy', 'EUSA0801 Curncy','EUSA0901 Curncy', 'EUSA1002 Curncy', 'EUSA1203 Curncy','EUSA1505 Curncy', 'EUSA2005 Curncy', 'EUSA2505 Curncy', 'EUSA3010 Curncy'],\n",
    "         6: ['SKSW1 Curncy', 'SD0020FS 1Y1Y BLC Curncy','SD0020FS 2Y1Y BLC Curncy', 'SD0020FS 3Y1Y BLC Curncy','SD0020FS 4Y1Y BLC Curncy', 'SD0020FS 5Y1Y BLC Curncy','SD0020FS 6Y1Y BLC Curncy', 'SD0020FS 7Y1Y BLC Curncy','SD0020FS 8Y1Y BLC Curncy', 'SD0020FS 9Y1Y BLC Curncy','SD0020FS 10Y2Y BLC Curncy', 'SD0020FS 12Y3Y BLC Curncy','SD0020FS 15Y5Y BLC Curncy', 'SD0020FS 20Y5Y BLC Curncy','SD0020FS 25Y5Y BLC Curncy', float(\"nan\")],\n",
    "         7: ['NKSW1 Curncy', 'SD0313FS 1Y1Y BLC Curncy','SD0313FS 2Y1Y BLC Curncy', 'SD0313FS 3Y1Y BLC Curncy','SD0313FS 4Y1Y BLC Curncy', 'SD0313FS 5Y1Y BLC Curncy','SD0313FS 6Y1Y BLC Curncy', 'SD0313FS 7Y1Y BLC Curncy','SD0313FS 8Y1Y BLC Curncy', 'SD0313FS 9Y1Y BLC Curncy','SD0313FS 10Y2Y BLC Curncy', 'SD0313FS 12Y3Y BLC Curncy','SD0313FS 15Y5Y BLC Curncy', 'SD0313FS 20Y5Y BLC Curncy','SD0313FS 25Y5Y BLC Curncy', float('nan')],\n",
    "         8: ['ISSW1 Curncy', 'ISFS0101 Curncy', 'ISFS0201 Curncy','ISFS0301 Curncy', 'ISFS0401 Curncy', 'ISFS0501 Curncy','ISFS0601 Curncy', 'ISFS0701 Curncy', 'ISFS0801 Curncy','ISFS0901 Curncy', 'ISFS1002 Curncy', 'ISFS1203 Curncy','ISFS1505 Curncy', 'ISFS2005 Curncy', 'ISFS2505 Curncy', float('nan')],\n",
    "         9: ['CKSW1 Curncy', 'S0320FS 1Y1Y BLC Curncy','S0320FS 2Y1Y BLC Curncy', 'S0320FS 3Y1Y BLC Curncy','S0320FS 4Y1Y BLC Curncy', 'S0320FS 5Y1Y BLC Curncy','S0320FS 6Y1Y BLC Curncy', 'S0320FS 7Y1Y BLC Curncy','S0320FS 8Y1Y BLC Curncy', 'S0320FS 9Y1Y BLC Curncy','S0320FS 10Y2Y BLC Curncy', 'S0320FS 12Y3Y BLC Curncy', float('nan'), float('nan'),float('nan'), float('nan')],\n",
    "         10: ['PZSW1 Curncy', 'S0323FS 1Y1Y BLC Curncy','S0323FS 2Y1Y BLC Curncy', 'S0323FS 3Y1Y BLC Curncy','S0323FS 4Y1Y BLC Curncy', 'S0323FS 5Y1Y BLC Curncy','S0323FS 6Y1Y BLC Curncy', 'S0323FS 7Y1Y BLC Curncy','S0323FS 8Y1Y BLC Curncy', 'S0323FS 9Y1Y BLC Curncy','S0323FS 10Y2Y BLC Curncy', float('nan'), float('nan'), float('nan'),float('nan'), float('nan')] \n",
    "            }).T"
   ]
  },
  {
   "cell_type": "code",
   "execution_count": 7,
   "metadata": {},
   "outputs": [
    {
     "name": "stdout",
     "output_type": "stream",
     "text": [
      "11\n",
      "16\n"
     ]
    }
   ],
   "source": [
    "print(len(idx))\n",
    "print(len(cols))"
   ]
  },
  {
   "cell_type": "code",
   "execution_count": 3,
   "metadata": {},
   "outputs": [
    {
     "name": "stdout",
     "output_type": "stream",
     "text": [
      "securityData = {\n",
      "    security = \"IRSW1 Curncy\"\n",
      "    eidData[] = {\n",
      "    }\n",
      "    fieldExceptions[] = {\n",
      "        fieldExceptions = {\n",
      "            fieldId = \"TRADE_DATE\"\n",
      "            errorInfo = {\n",
      "                source = \"21933:rsfrdsvc1\"\n",
      "                code = 9\n",
      "                category = \"BAD_FLD\"\n",
      "                message = \"Field not valid\"\n",
      "                subcategory = \"INVALID_FIELD\"\n",
      "            }\n",
      "        }\n",
      "        fieldExceptions = {\n",
      "            fieldId = \"EFFECTIVE_DATE\"\n",
      "            errorInfo = {\n",
      "                source = \"21933:rsfrdsvc1\"\n",
      "                code = 9\n",
      "                category = \"BAD_FLD\"\n",
      "                message = \"Field not applicable to security\"\n",
      "                subcategory = \"NOT_APPLICABLE_TO_REF_DATA\"\n",
      "            }\n",
      "        }\n",
      "        fieldExceptions = {\n",
      "            fieldId = \"EXPIRATION_DATE\"\n",
      "            errorInfo = {\n",
      "                source = \"21933:rsfrdsvc1\"\n",
      "                code = 9\n",
      "                category = \"BAD_FLD\"\n",
      "                message = \"Field not valid\"\n",
      "                subcategory = \"INVALID_FIELD\"\n",
      "            }\n",
      "        }\n",
      "        fieldExceptions = {\n",
      "            fieldId = \"NOTIONAL_AMOUNT\"\n",
      "            errorInfo = {\n",
      "                source = \"21933:rsfrdsvc1\"\n",
      "                code = 9\n",
      "                category = \"BAD_FLD\"\n",
      "                message = \"Field not valid\"\n",
      "                subcategory = \"INVALID_FIELD\"\n",
      "            }\n",
      "        }\n",
      "        fieldExceptions = {\n",
      "            fieldId = \"FIXED_RATE\"\n",
      "            errorInfo = {\n",
      "                source = \"21933:rsfrdsvc1\"\n",
      "                code = 9\n",
      "                category = \"BAD_FLD\"\n",
      "                message = \"Field not valid\"\n",
      "                subcategory = \"INVALID_FIELD\"\n",
      "            }\n",
      "        }\n",
      "        fieldExceptions = {\n",
      "            fieldId = \"FLOATING_RATE\"\n",
      "            errorInfo = {\n",
      "                source = \"21933:rsfrdsvc1\"\n",
      "                code = 9\n",
      "                category = \"BAD_FLD\"\n",
      "                message = \"Field not valid\"\n",
      "                subcategory = \"INVALID_FIELD\"\n",
      "            }\n",
      "        }\n",
      "    }\n",
      "    sequenceNumber = 0\n",
      "    fieldData = {\n",
      "    }\n",
      "}\n",
      "\n",
      "securityData = {\n",
      "    security = \"IRSW2 Curncy\"\n",
      "    eidData[] = {\n",
      "    }\n",
      "    securityError = {\n",
      "        source = \"21933:rsfrdsvc1\"\n",
      "        code = 43\n",
      "        category = \"BAD_SEC\"\n",
      "        message = \"Unknown/Invalid Security  [nid:21933]\"\n",
      "        subcategory = \"INVALID_SECURITY\"\n",
      "    }\n",
      "    fieldExceptions[] = {\n",
      "    }\n",
      "    sequenceNumber = 1\n",
      "    fieldData = {\n",
      "    }\n",
      "}\n",
      "\n"
     ]
    }
   ],
   "source": [
    "import blpapi\n",
    "\n",
    "def fetch_swap_data(securities, fields):\n",
    "    sessionOptions = blpapi.SessionOptions()\n",
    "    sessionOptions.setServerHost(\"localhost\")\n",
    "    sessionOptions.setServerPort(8194)\n",
    "\n",
    "    session = blpapi.Session(sessionOptions)\n",
    "\n",
    "    if not session.start():\n",
    "        print(\"Failed to start session.\")\n",
    "        return\n",
    "\n",
    "    if not session.openService(\"//blp/refdata\"):\n",
    "        print(\"Failed to open //blp/refdata service.\")\n",
    "        return\n",
    "\n",
    "    refDataService = session.getService(\"//blp/refdata\")\n",
    "    request = refDataService.createRequest(\"ReferenceDataRequest\")\n",
    "\n",
    "    for security in securities:\n",
    "        request.getElement(\"securities\").appendValue(security)\n",
    "\n",
    "    for field in fields:\n",
    "        request.getElement(\"fields\").appendValue(field)\n",
    "\n",
    "    session.sendRequest(request)\n",
    "\n",
    "    while True:\n",
    "        ev = session.nextEvent(500)\n",
    "        for msg in ev:\n",
    "            if msg.messageType() == blpapi.Name(\"ReferenceDataResponse\"):\n",
    "                security_data = msg.getElement(\"securityData\")\n",
    "                for secData in security_data.values():\n",
    "                    print(secData)\n",
    "\n",
    "        if ev.eventType() == blpapi.Event.RESPONSE:\n",
    "            break\n",
    "\n",
    "    session.stop()\n",
    "\n",
    "# Define securities and fields (example tickers and fields)\n",
    "securities = [\"IRSW1 Curncy\", \"IRSW2 Curncy\"]  # Replace with actual swap tickers\n",
    "fields = [\"TRADE_DATE\", \"EFFECTIVE_DATE\", \"EXPIRATION_DATE\", \"NOTIONAL_AMOUNT\", \"FIXED_RATE\", \"FLOATING_RATE\"]\n",
    "\n",
    "fetch_swap_data(securities, fields)\n"
   ]
  }
 ],
 "metadata": {
  "kernelspec": {
   "display_name": "Python 3",
   "language": "python",
   "name": "python3"
  },
  "language_info": {
   "codemirror_mode": {
    "name": "ipython",
    "version": 3
   },
   "file_extension": ".py",
   "mimetype": "text/x-python",
   "name": "python",
   "nbconvert_exporter": "python",
   "pygments_lexer": "ipython3",
   "version": "3.10.9"
  }
 },
 "nbformat": 4,
 "nbformat_minor": 2
}
