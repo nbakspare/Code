{
 "cells": [
  {
   "cell_type": "code",
   "execution_count": 12,
   "metadata": {},
   "outputs": [
    {
     "name": "stdout",
     "output_type": "stream",
     "text": [
      "<class 'img2table.document.image.Image'>\n"
     ]
    },
    {
     "data": {
      "text/plain": [
       "[ExtractedTable(title=None, bbox=(11, 14, 213, 116),shape=(5, 2))]"
      ]
     },
     "execution_count": 12,
     "metadata": {},
     "output_type": "execute_result"
    }
   ],
   "source": [
    "from img2table.document import Image\n",
    "import pandas as pd\n",
    "# Instantiation of the image\n",
    "src=\"table6.png\"\n",
    "image = Image(src, \n",
    "              detect_rotation=False)\n",
    "\n",
    "print(Image)\n",
    "# Table identification\n",
    "img_tables = image.extract_tables()\n",
    "\n",
    "# Result of table identification\n",
    "img_tables\n",
    "\n"
   ]
  },
  {
   "cell_type": "code",
   "execution_count": 13,
   "metadata": {},
   "outputs": [
    {
     "name": "stdout",
     "output_type": "stream",
     "text": [
      "Table 1:\n",
      "      0     1\n",
      "0  None  None\n",
      "1  None  None\n",
      "2  None  None\n",
      "3  None  None\n",
      "4  None  None\n",
      "\n",
      "\n"
     ]
    }
   ],
   "source": [
    "if img_tables:\n",
    "    for i, table in enumerate(img_tables):\n",
    "        # Check if df attribute is a DataFrame\n",
    "        if isinstance(table.df, pd.DataFrame):\n",
    "            df = table.df\n",
    "        else:\n",
    "            # If it's not a DataFrame, we assume it's convertible to one\n",
    "            df = pd.DataFrame(table.df)\n",
    "\n",
    "        print(f\"Table {i + 1}:\")\n",
    "        print(df)\n",
    "        print(\"\\n\")\n",
    "else:\n",
    "    print(\"No tables found in the image.\")"
   ]
  }
 ],
 "metadata": {
  "kernelspec": {
   "display_name": "Python 3",
   "language": "python",
   "name": "python3"
  },
  "language_info": {
   "codemirror_mode": {
    "name": "ipython",
    "version": 3
   },
   "file_extension": ".py",
   "mimetype": "text/x-python",
   "name": "python",
   "nbconvert_exporter": "python",
   "pygments_lexer": "ipython3",
   "version": "3.10.9"
  }
 },
 "nbformat": 4,
 "nbformat_minor": 2
}
