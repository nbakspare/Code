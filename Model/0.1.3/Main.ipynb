{
 "cells": [
  {
   "cell_type": "code",
   "execution_count": 1,
   "metadata": {},
   "outputs": [],
   "source": [
    "import pandas as pd\n",
    "import numpy as np\n",
    "import matplotlib.pyplot as plt\n",
    "from RVLibrary import back_test\n",
    "from utils import readdata,writedata"
   ]
  },
  {
   "cell_type": "code",
   "execution_count": 2,
   "metadata": {
    "scrolled": true
   },
   "outputs": [
    {
     "name": "stdout",
     "output_type": "stream",
     "text": [
      "Mode: two leg\n",
      "Backtest Period: Jan 11, 2018 - Feb 11, 2020\n",
      "Progress: [........................................] 0/444\r"
     ]
    },
    {
     "name": "stdout",
     "output_type": "stream",
     "text": [
      "Progress: [########################################] 444/444\n",
      "Backtest Complete - See Statistics Below\n",
      "Total Number of Trades: 24\n",
      "Win Ratio: 58.33%\n",
      "Total % PnL: 5.23%\n",
      "Average Time of Trade: 34.21 Trading Days\n",
      "Max Drawdown in Single Trade: -2.44%\n"
     ]
    }
   ],
   "source": [
    "date,USDCNH,EURUSD,GBPUSD = readdata('test_data.csv',date=0,inp_1=1,inp_2=3,inp_3=5)\n",
    "out = back_test(date,USDCNH,GBPUSD,lookback=100,entry_z=2.5,stoploss_z=4,takeprofit_z=-0.5)"
   ]
  }
 ],
 "metadata": {
  "kernelspec": {
   "display_name": "Python 3",
   "language": "python",
   "name": "python3"
  },
  "language_info": {
   "codemirror_mode": {
    "name": "ipython",
    "version": 3
   },
   "file_extension": ".py",
   "mimetype": "text/x-python",
   "name": "python",
   "nbconvert_exporter": "python",
   "pygments_lexer": "ipython3",
   "version": "3.10.9"
  }
 },
 "nbformat": 4,
 "nbformat_minor": 2
}
